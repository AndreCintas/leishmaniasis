{
 "cells": [
  {
   "cell_type": "code",
   "execution_count": 1,
   "metadata": {},
   "outputs": [
    {
     "name": "stdout",
     "output_type": "stream",
     "text": [
      "2007.csv renomeado para 2007_fortaleza.csv\n",
      "2008.csv renomeado para 2008_fortaleza.csv\n",
      "2009.csv renomeado para 2009_fortaleza.csv\n",
      "2010.csv renomeado para 2010_fortaleza.csv\n",
      "2011.csv renomeado para 2011_fortaleza.csv\n",
      "2012.csv renomeado para 2012_fortaleza.csv\n",
      "2013.csv renomeado para 2013_fortaleza.csv\n",
      "2014.csv renomeado para 2014_fortaleza.csv\n",
      "2015.csv renomeado para 2015_fortaleza.csv\n",
      "2016.csv renomeado para 2016_fortaleza.csv\n",
      "2017.csv renomeado para 2017_fortaleza.csv\n",
      "2018.csv renomeado para 2018_fortaleza.csv\n",
      "2019.csv renomeado para 2019_fortaleza.csv\n",
      "2020.csv renomeado para 2020_fortaleza.csv\n",
      "2021.csv renomeado para 2021_fortaleza.csv\n",
      "2022.csv renomeado para 2022_fortaleza.csv\n"
     ]
    }
   ],
   "source": [
    "import os\n",
    "\n",
    "# Caminho para o diretório onde os arquivos estão localizados\n",
    "directory = 'E:\\\\Dissertação\\\\Leishmaniose\\\\Artigo 1\\\\Github\\\\LV\\\\Top 1 Fortaleza'\n",
    "\n",
    "# Loop através de cada ano de 2007 a 2022\n",
    "for year in range(2007, 2023):\n",
    "    old_filename = f'{year}.csv'\n",
    "    new_filename = f'{year}_fortaleza.csv'\n",
    "    \n",
    "    old_filepath = os.path.join(directory, old_filename)\n",
    "    new_filepath = os.path.join(directory, new_filename)\n",
    "    \n",
    "    # Renomeia o arquivo\n",
    "    os.rename(old_filepath, new_filepath)\n",
    "\n",
    "    print(f'{old_filename} renomeado para {new_filename}')"
   ]
  },
  {
   "cell_type": "code",
   "execution_count": 2,
   "metadata": {},
   "outputs": [
    {
     "name": "stdout",
     "output_type": "stream",
     "text": [
      "2007.csv renomeado para 2007_teresina.csv\n",
      "2008.csv renomeado para 2008_teresina.csv\n",
      "2009.csv renomeado para 2009_teresina.csv\n",
      "2010.csv renomeado para 2010_teresina.csv\n",
      "2011.csv renomeado para 2011_teresina.csv\n",
      "2012.csv renomeado para 2012_teresina.csv\n",
      "2013.csv renomeado para 2013_teresina.csv\n",
      "2014.csv renomeado para 2014_teresina.csv\n",
      "2015.csv renomeado para 2015_teresina.csv\n",
      "2016.csv renomeado para 2016_teresina.csv\n",
      "2017.csv renomeado para 2017_teresina.csv\n",
      "2018.csv renomeado para 2018_teresina.csv\n",
      "2019.csv renomeado para 2019_teresina.csv\n",
      "2020.csv renomeado para 2020_teresina.csv\n",
      "2021.csv renomeado para 2021_teresina.csv\n",
      "2022.csv renomeado para 2022_teresina.csv\n"
     ]
    }
   ],
   "source": [
    "import os\n",
    "\n",
    "# Caminho para o diretório onde os arquivos estão localizados\n",
    "directory = 'E:\\\\Dissertação\\\\Leishmaniose\\\\Artigo 1\\\\Github\\\\LV\\\\Top 2 Teresina'\n",
    "\n",
    "# Loop através de cada ano de 2007 a 2022\n",
    "for year in range(2007, 2023):\n",
    "    old_filename = f'{year}.csv'\n",
    "    new_filename = f'{year}_teresina.csv'\n",
    "    \n",
    "    old_filepath = os.path.join(directory, old_filename)\n",
    "    new_filepath = os.path.join(directory, new_filename)\n",
    "    \n",
    "    # Renomeia o arquivo\n",
    "    os.rename(old_filepath, new_filepath)\n",
    "\n",
    "    print(f'{old_filename} renomeado para {new_filename}')"
   ]
  },
  {
   "cell_type": "code",
   "execution_count": 3,
   "metadata": {},
   "outputs": [
    {
     "name": "stdout",
     "output_type": "stream",
     "text": [
      "2007.csv renomeado para 2007_sao_luis.csv\n",
      "2008.csv renomeado para 2008_sao_luis.csv\n",
      "2009.csv renomeado para 2009_sao_luis.csv\n",
      "2010.csv renomeado para 2010_sao_luis.csv\n",
      "2011.csv renomeado para 2011_sao_luis.csv\n",
      "2012.csv renomeado para 2012_sao_luis.csv\n",
      "2013.csv renomeado para 2013_sao_luis.csv\n",
      "2014.csv renomeado para 2014_sao_luis.csv\n",
      "2015.csv renomeado para 2015_sao_luis.csv\n",
      "2016.csv renomeado para 2016_sao_luis.csv\n",
      "2017.csv renomeado para 2017_sao_luis.csv\n",
      "2018.csv renomeado para 2018_sao_luis.csv\n",
      "2019.csv renomeado para 2019_sao_luis.csv\n",
      "2020.csv renomeado para 2020_sao_luis.csv\n",
      "2021.csv renomeado para 2021_sao_luis.csv\n",
      "2022.csv renomeado para 2022_sao_luis.csv\n"
     ]
    }
   ],
   "source": [
    "import os\n",
    "\n",
    "# Caminho para o diretório onde os arquivos estão localizados\n",
    "directory = 'E:\\\\Dissertação\\\\Leishmaniose\\\\Artigo 1\\\\Github\\\\LV\\\\Top 3 São Luís'\n",
    "\n",
    "# Loop através de cada ano de 2007 a 2022\n",
    "for year in range(2007, 2023):\n",
    "    old_filename = f'{year}.csv'\n",
    "    new_filename = f'{year}_sao_luis.csv'\n",
    "    \n",
    "    old_filepath = os.path.join(directory, old_filename)\n",
    "    new_filepath = os.path.join(directory, new_filename)\n",
    "    \n",
    "    # Renomeia o arquivo\n",
    "    os.rename(old_filepath, new_filepath)\n",
    "\n",
    "    print(f'{old_filename} renomeado para {new_filename}')"
   ]
  },
  {
   "cell_type": "code",
   "execution_count": 6,
   "metadata": {},
   "outputs": [
    {
     "name": "stdout",
     "output_type": "stream",
     "text": [
      "2019.csv renomeado para 2019_rio_branco.csv\n",
      "2020.csv renomeado para 2020_rio_branco.csv\n",
      "2021.csv renomeado para 2021_rio_branco.csv\n",
      "2022.csv renomeado para 2022_rio_branco.csv\n"
     ]
    }
   ],
   "source": [
    "import os\n",
    "\n",
    "# Caminho para o diretório onde os arquivos estão localizados\n",
    "directory = 'E:\\\\Dissertação\\\\Leishmaniose\\\\Artigo 1\\\\Github\\\\LT\\\\Top 3 Rio Branco'\n",
    "\n",
    "# Loop através de cada ano de 2007 a 2022\n",
    "for year in range(2007, 2023):\n",
    "    old_filename = f'{year}.csv'\n",
    "    new_filename = f'{year}_rio_branco.csv'\n",
    "    \n",
    "    old_filepath = os.path.join(directory, old_filename)\n",
    "    new_filepath = os.path.join(directory, new_filename)\n",
    "    \n",
    "    # Renomeia o arquivo\n",
    "    os.rename(old_filepath, new_filepath)\n",
    "\n",
    "    print(f'{old_filename} renomeado para {new_filename}')"
   ]
  },
  {
   "cell_type": "code",
   "execution_count": 7,
   "metadata": {},
   "outputs": [
    {
     "name": "stdout",
     "output_type": "stream",
     "text": [
      "2007.csv renomeado para 2007_macapa.csv\n",
      "2008.csv renomeado para 2008_macapa.csv\n",
      "2009.csv renomeado para 2009_macapa.csv\n",
      "2010.csv renomeado para 2010_macapa.csv\n",
      "2011.csv renomeado para 2011_macapa.csv\n",
      "2012.csv renomeado para 2012_macapa.csv\n",
      "2013.csv renomeado para 2013_macapa.csv\n",
      "2014.csv renomeado para 2014_macapa.csv\n",
      "2015.csv renomeado para 2015_macapa.csv\n",
      "2016.csv renomeado para 2016_macapa.csv\n",
      "2017.csv renomeado para 2017_macapa.csv\n",
      "2018.csv renomeado para 2018_macapa.csv\n",
      "2019.csv renomeado para 2019_macapa.csv\n",
      "2020.csv renomeado para 2020_macapa.csv\n",
      "2021.csv renomeado para 2021_macapa.csv\n",
      "2022.csv renomeado para 2022_macapa.csv\n"
     ]
    }
   ],
   "source": [
    "import os\n",
    "\n",
    "# Caminho para o diretório onde os arquivos estão localizados\n",
    "directory = 'E:\\\\Dissertação\\\\Leishmaniose\\\\Artigo 1\\\\Github\\\\LT\\\\Top 6 Macapá'\n",
    "\n",
    "# Loop através de cada ano de 2007 a 2022\n",
    "for year in range(2007, 2023):\n",
    "    old_filename = f'{year}.csv'\n",
    "    new_filename = f'{year}_macapa.csv'\n",
    "    \n",
    "    old_filepath = os.path.join(directory, old_filename)\n",
    "    new_filepath = os.path.join(directory, new_filename)\n",
    "    \n",
    "    # Renomeia o arquivo\n",
    "    os.rename(old_filepath, new_filepath)\n",
    "\n",
    "    print(f'{old_filename} renomeado para {new_filename}')"
   ]
  }
 ],
 "metadata": {
  "kernelspec": {
   "display_name": "Python 3",
   "language": "python",
   "name": "python3"
  },
  "language_info": {
   "codemirror_mode": {
    "name": "ipython",
    "version": 3
   },
   "file_extension": ".py",
   "mimetype": "text/x-python",
   "name": "python",
   "nbconvert_exporter": "python",
   "pygments_lexer": "ipython3",
   "version": "3.9.13"
  }
 },
 "nbformat": 4,
 "nbformat_minor": 2
}
